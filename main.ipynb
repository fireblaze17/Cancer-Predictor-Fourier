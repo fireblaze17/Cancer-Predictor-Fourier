{
 "cells": [
  {
   "cell_type": "code",
   "execution_count": null,
   "metadata": {},
   "outputs": [
    {
     "name": "stdout",
     "output_type": "stream",
     "text": [
      "Shape of data_preprocessed: (4024, 39)\n",
      "Number of encoded feature names: 39\n",
      "Numeric features after preprocessing: ['Age', 'Tumor Size', 'Regional Node Examined', 'Reginol Node Positive', 'Survival Months', 'Status']\n",
      "Categorical features after one-hot encoding: ['Race_Black', 'Race_Other', 'Race_White', 'Marital Status_Divorced', 'Marital Status_Married', 'Marital Status_Separated', 'Marital Status_Single ', 'Marital Status_Widowed', 'T Stage _T1', 'T Stage _T2', 'T Stage _T3', 'T Stage _T4', 'N Stage_N1', 'N Stage_N2', 'N Stage_N3', '6th Stage_IIA', '6th Stage_IIB', '6th Stage_IIIA', '6th Stage_IIIB', '6th Stage_IIIC', 'differentiate_Moderately differentiated', 'differentiate_Poorly differentiated', 'differentiate_Undifferentiated', 'differentiate_Well differentiated', 'Grade_ anaplastic; Grade IV', 'Grade_1', 'Grade_2', 'Grade_3', 'Estrogen Status_Negative', 'Estrogen Status_Positive', 'Progesterone Status_Negative', 'Progesterone Status_Positive']\n",
      "        Age  Tumor Size  Regional Node Examined  Reginol Node Positive  \\\n",
      "0  1.565253   -1.253661                1.190676              -0.618172   \n",
      "1 -0.443222    0.214345               -0.044095               0.164807   \n",
      "2  0.449434    1.540287               -0.044095               0.556296   \n",
      "3  0.449434   -0.590691               -1.525820              -0.618172   \n",
      "4 -0.777968    0.498475               -1.402343              -0.618172   \n",
      "\n",
      "   Survival Months    Status  Race_Black  Race_Other  Race_White  \\\n",
      "0        -0.492961 -0.425148         0.0         0.0         1.0   \n",
      "1        -0.405695 -0.425148         0.0         0.0         1.0   \n",
      "2         0.161530 -0.425148         0.0         0.0         1.0   \n",
      "3         0.554224 -0.425148         0.0         0.0         1.0   \n",
      "4        -0.929288 -0.425148         0.0         0.0         1.0   \n",
      "\n",
      "   Marital Status_Divorced  ...  differentiate_Well differentiated  \\\n",
      "0                      0.0  ...                                0.0   \n",
      "1                      0.0  ...                                0.0   \n",
      "2                      1.0  ...                                0.0   \n",
      "3                      0.0  ...                                0.0   \n",
      "4                      0.0  ...                                0.0   \n",
      "\n",
      "   Grade_ anaplastic; Grade IV  Grade_1  Grade_2  Grade_3  \\\n",
      "0                          0.0      0.0      0.0      1.0   \n",
      "1                          0.0      0.0      1.0      0.0   \n",
      "2                          0.0      0.0      1.0      0.0   \n",
      "3                          0.0      0.0      0.0      1.0   \n",
      "4                          0.0      0.0      0.0      1.0   \n",
      "\n",
      "   Estrogen Status_Negative  Estrogen Status_Positive  \\\n",
      "0                       0.0                       1.0   \n",
      "1                       0.0                       1.0   \n",
      "2                       0.0                       1.0   \n",
      "3                       0.0                       1.0   \n",
      "4                       0.0                       1.0   \n",
      "\n",
      "   Progesterone Status_Negative  Progesterone Status_Positive  A Stage  \n",
      "0                           0.0                           1.0      1.0  \n",
      "1                           0.0                           1.0      1.0  \n",
      "2                           0.0                           1.0      1.0  \n",
      "3                           0.0                           1.0      1.0  \n",
      "4                           0.0                           1.0      1.0  \n",
      "\n",
      "[5 rows x 39 columns]\n",
      "        Age  Tumor Size  Regional Node Examined  Reginol Node Positive  \\\n",
      "0  1.565253   -1.253661                1.190676              -0.618172   \n",
      "1 -0.443222    0.214345               -0.044095               0.164807   \n",
      "2  0.449434    1.540287               -0.044095               0.556296   \n",
      "3  0.449434   -0.590691               -1.525820              -0.618172   \n",
      "4 -0.777968    0.498475               -1.402343              -0.618172   \n",
      "\n",
      "   Survival Months    Status  Race_Black  Race_Other  Race_White  \\\n",
      "0        -0.492961 -0.425148         0.0         0.0         1.0   \n",
      "1        -0.405695 -0.425148         0.0         0.0         1.0   \n",
      "2         0.161530 -0.425148         0.0         0.0         1.0   \n",
      "3         0.554224 -0.425148         0.0         0.0         1.0   \n",
      "4        -0.929288 -0.425148         0.0         0.0         1.0   \n",
      "\n",
      "   Marital Status_Divorced  ...  differentiate_Well differentiated  \\\n",
      "0                      0.0  ...                                0.0   \n",
      "1                      0.0  ...                                0.0   \n",
      "2                      1.0  ...                                0.0   \n",
      "3                      0.0  ...                                0.0   \n",
      "4                      0.0  ...                                0.0   \n",
      "\n",
      "   Grade_ anaplastic; Grade IV  Grade_1  Grade_2  Grade_3  \\\n",
      "0                          0.0      0.0      0.0      1.0   \n",
      "1                          0.0      0.0      1.0      0.0   \n",
      "2                          0.0      0.0      1.0      0.0   \n",
      "3                          0.0      0.0      0.0      1.0   \n",
      "4                          0.0      0.0      0.0      1.0   \n",
      "\n",
      "   Estrogen Status_Negative  Estrogen Status_Positive  \\\n",
      "0                       0.0                       1.0   \n",
      "1                       0.0                       1.0   \n",
      "2                       0.0                       1.0   \n",
      "3                       0.0                       1.0   \n",
      "4                       0.0                       1.0   \n",
      "\n",
      "   Progesterone Status_Negative  Progesterone Status_Positive  A Stage  \n",
      "0                           0.0                           1.0      1.0  \n",
      "1                           0.0                           1.0      1.0  \n",
      "2                           0.0                           1.0      1.0  \n",
      "3                           0.0                           1.0      1.0  \n",
      "4                           0.0                           1.0      1.0  \n",
      "\n",
      "[5 rows x 39 columns]\n"
     ]
    }
   ],
   "source": [
    "import pandas as pd\n",
    "import numpy as np\n",
    "from sklearn.preprocessing import StandardScaler, OneHotEncoder, LabelEncoder\n",
    "from sklearn.impute import SimpleImputer\n",
    "from sklearn.compose import ColumnTransformer\n",
    "from sklearn.pipeline import Pipeline\n",
    "\n",
    "\n",
    "data = pd.read_csv('Breast_Cancer.csv')  \n",
    "\n",
    "# Convert 'A Stage' to integers using LabelEncoder\n",
    "label_encoder = LabelEncoder()\n",
    "data['A Stage'] = label_encoder.fit_transform(data['A Stage'])\n",
    "\n",
    "# Divide features into numeric and categorical ones, excluding 'A Stage'\n",
    "numeric_features = list(data.select_dtypes(include=['int64', 'float64']).columns)\n",
    "\n",
    "# Ensure 'A Stage' is not in the numeric features list\n",
    "if 'A Stage' in numeric_features:\n",
    "    numeric_features.remove('A Stage')\n",
    "\n",
    "categorical_features = [item for item in data.columns if item not in numeric_features and item != 'A Stage']\n",
    "\n",
    "# Encode other categorical features and handle missing values\n",
    "data_encoded = data.copy()\n",
    "\n",
    "# Example encoding step for one of the categorical features\n",
    "data_encoded['Status'] = data_encoded['Status'].astype(pd.CategoricalDtype(categories=['Alive', 'Dead'], ordered=True))\n",
    "data_encoded['Status'] = data_encoded['Status'].cat.codes\n",
    "\n",
    "# Update feature types after encoding\n",
    "numeric_features = list(data_encoded.select_dtypes(include=['int8', 'int64', 'float64']).columns)\n",
    "\n",
    "# Ensure 'A Stage' is not in the numeric features list\n",
    "if 'A Stage' in numeric_features:\n",
    "    numeric_features.remove('A Stage')\n",
    "\n",
    "categorical_features = [item for item in data_encoded.columns if item not in numeric_features and item != 'A Stage']\n",
    "\n",
    "# Create transformers for data preprocessing\n",
    "numeric_transformer = Pipeline(steps=[\n",
    "    ('imputer', SimpleImputer(strategy='median')),  # Processing of missing values\n",
    "    ('scaler', StandardScaler())  # Scaling of numerical features\n",
    "])\n",
    "\n",
    "categorical_transformer = Pipeline(steps=[\n",
    "    ('imputer', SimpleImputer(strategy='most_frequent')),  # Processing of missing values\n",
    "    ('onehot', OneHotEncoder(handle_unknown='ignore'))  # Converting categorical variables to binary numeric ones\n",
    "])\n",
    "\n",
    "preprocessor = ColumnTransformer(\n",
    "    transformers=[\n",
    "        ('num', numeric_transformer, numeric_features),\n",
    "        ('cat', categorical_transformer, categorical_features)\n",
    "    ])\n",
    "\n",
    "# Apply transformers to the data, excluding 'A Stage'\n",
    "data_preprocessed = preprocessor.fit_transform(data_encoded)\n",
    "\n",
    "# Get the encoded categorical feature names after one-hot encoding\n",
    "encoded_categorical_feature_names = preprocessor.named_transformers_['cat']['onehot'].get_feature_names_out(input_features=categorical_features)\n",
    "\n",
    "# Combine numeric and categorical feature names, and add 'A Stage' at the end\n",
    "encoded_feature_names = numeric_features + list(encoded_categorical_feature_names) + ['A Stage']\n",
    "\n",
    "# Add 'A Stage' back to the preprocessed data\n",
    "data_preprocessed = np.hstack((data_preprocessed, data_encoded[['A Stage']].values))\n",
    "\n",
    "# Verify the shapes match\n",
    "print(f\"Shape of data_preprocessed: {data_preprocessed.shape}\")\n",
    "print(f\"Number of encoded feature names: {len(encoded_feature_names)}\")\n",
    "\n",
    "# Check details of generated features\n",
    "print(f\"Numeric features after preprocessing: {numeric_features}\")\n",
    "print(f\"Categorical features after one-hot encoding: {list(encoded_categorical_feature_names)}\")\n",
    "\n",
    "# Create the DataFrame\n",
    "if data_preprocessed.shape[1] == len(encoded_feature_names):\n",
    "    data_preprocessed_df = pd.DataFrame(data_preprocessed, columns=encoded_feature_names)\n",
    "    print(data_preprocessed_df.head())\n",
    "else:\n",
    "    print(f\"Mismatch! Data shape: {data_preprocessed.shape}, Feature names length: {len(encoded_feature_names)}\")\n",
    "\n",
    "# Creating a DataFrame from encoded data\n",
    "data_preprocessed_df = pd.DataFrame(data_preprocessed, columns=encoded_feature_names)\n",
    "print(data_preprocessed_df.head())\n"
   ]
  },
  {
   "cell_type": "code",
   "execution_count": 5,
   "metadata": {},
   "outputs": [
    {
     "data": {
      "text/html": [
       "<div>\n",
       "<style scoped>\n",
       "    .dataframe tbody tr th:only-of-type {\n",
       "        vertical-align: middle;\n",
       "    }\n",
       "\n",
       "    .dataframe tbody tr th {\n",
       "        vertical-align: top;\n",
       "    }\n",
       "\n",
       "    .dataframe thead th {\n",
       "        text-align: right;\n",
       "    }\n",
       "</style>\n",
       "<table border=\"1\" class=\"dataframe\">\n",
       "  <thead>\n",
       "    <tr style=\"text-align: right;\">\n",
       "      <th></th>\n",
       "      <th>Age</th>\n",
       "      <th>Tumor Size</th>\n",
       "      <th>Regional Node Examined</th>\n",
       "      <th>Reginol Node Positive</th>\n",
       "      <th>Survival Months</th>\n",
       "      <th>Status</th>\n",
       "      <th>Race_Black</th>\n",
       "      <th>Race_Other</th>\n",
       "      <th>Race_White</th>\n",
       "      <th>Marital Status_Divorced</th>\n",
       "      <th>...</th>\n",
       "      <th>differentiate_Well differentiated</th>\n",
       "      <th>Grade_ anaplastic; Grade IV</th>\n",
       "      <th>Grade_1</th>\n",
       "      <th>Grade_2</th>\n",
       "      <th>Grade_3</th>\n",
       "      <th>Estrogen Status_Negative</th>\n",
       "      <th>Estrogen Status_Positive</th>\n",
       "      <th>Progesterone Status_Negative</th>\n",
       "      <th>Progesterone Status_Positive</th>\n",
       "      <th>A Stage</th>\n",
       "    </tr>\n",
       "  </thead>\n",
       "  <tbody>\n",
       "    <tr>\n",
       "      <th>0</th>\n",
       "      <td>1.565253</td>\n",
       "      <td>-1.253661</td>\n",
       "      <td>1.190676</td>\n",
       "      <td>-0.618172</td>\n",
       "      <td>-0.492961</td>\n",
       "      <td>-0.425148</td>\n",
       "      <td>0.0</td>\n",
       "      <td>0.0</td>\n",
       "      <td>1.0</td>\n",
       "      <td>0.0</td>\n",
       "      <td>...</td>\n",
       "      <td>0.0</td>\n",
       "      <td>0.0</td>\n",
       "      <td>0.0</td>\n",
       "      <td>0.0</td>\n",
       "      <td>1.0</td>\n",
       "      <td>0.0</td>\n",
       "      <td>1.0</td>\n",
       "      <td>0.0</td>\n",
       "      <td>1.0</td>\n",
       "      <td>1.0</td>\n",
       "    </tr>\n",
       "    <tr>\n",
       "      <th>1</th>\n",
       "      <td>-0.443222</td>\n",
       "      <td>0.214345</td>\n",
       "      <td>-0.044095</td>\n",
       "      <td>0.164807</td>\n",
       "      <td>-0.405695</td>\n",
       "      <td>-0.425148</td>\n",
       "      <td>0.0</td>\n",
       "      <td>0.0</td>\n",
       "      <td>1.0</td>\n",
       "      <td>0.0</td>\n",
       "      <td>...</td>\n",
       "      <td>0.0</td>\n",
       "      <td>0.0</td>\n",
       "      <td>0.0</td>\n",
       "      <td>1.0</td>\n",
       "      <td>0.0</td>\n",
       "      <td>0.0</td>\n",
       "      <td>1.0</td>\n",
       "      <td>0.0</td>\n",
       "      <td>1.0</td>\n",
       "      <td>1.0</td>\n",
       "    </tr>\n",
       "    <tr>\n",
       "      <th>2</th>\n",
       "      <td>0.449434</td>\n",
       "      <td>1.540287</td>\n",
       "      <td>-0.044095</td>\n",
       "      <td>0.556296</td>\n",
       "      <td>0.161530</td>\n",
       "      <td>-0.425148</td>\n",
       "      <td>0.0</td>\n",
       "      <td>0.0</td>\n",
       "      <td>1.0</td>\n",
       "      <td>1.0</td>\n",
       "      <td>...</td>\n",
       "      <td>0.0</td>\n",
       "      <td>0.0</td>\n",
       "      <td>0.0</td>\n",
       "      <td>1.0</td>\n",
       "      <td>0.0</td>\n",
       "      <td>0.0</td>\n",
       "      <td>1.0</td>\n",
       "      <td>0.0</td>\n",
       "      <td>1.0</td>\n",
       "      <td>1.0</td>\n",
       "    </tr>\n",
       "    <tr>\n",
       "      <th>3</th>\n",
       "      <td>0.449434</td>\n",
       "      <td>-0.590691</td>\n",
       "      <td>-1.525820</td>\n",
       "      <td>-0.618172</td>\n",
       "      <td>0.554224</td>\n",
       "      <td>-0.425148</td>\n",
       "      <td>0.0</td>\n",
       "      <td>0.0</td>\n",
       "      <td>1.0</td>\n",
       "      <td>0.0</td>\n",
       "      <td>...</td>\n",
       "      <td>0.0</td>\n",
       "      <td>0.0</td>\n",
       "      <td>0.0</td>\n",
       "      <td>0.0</td>\n",
       "      <td>1.0</td>\n",
       "      <td>0.0</td>\n",
       "      <td>1.0</td>\n",
       "      <td>0.0</td>\n",
       "      <td>1.0</td>\n",
       "      <td>1.0</td>\n",
       "    </tr>\n",
       "    <tr>\n",
       "      <th>4</th>\n",
       "      <td>-0.777968</td>\n",
       "      <td>0.498475</td>\n",
       "      <td>-1.402343</td>\n",
       "      <td>-0.618172</td>\n",
       "      <td>-0.929288</td>\n",
       "      <td>-0.425148</td>\n",
       "      <td>0.0</td>\n",
       "      <td>0.0</td>\n",
       "      <td>1.0</td>\n",
       "      <td>0.0</td>\n",
       "      <td>...</td>\n",
       "      <td>0.0</td>\n",
       "      <td>0.0</td>\n",
       "      <td>0.0</td>\n",
       "      <td>0.0</td>\n",
       "      <td>1.0</td>\n",
       "      <td>0.0</td>\n",
       "      <td>1.0</td>\n",
       "      <td>0.0</td>\n",
       "      <td>1.0</td>\n",
       "      <td>1.0</td>\n",
       "    </tr>\n",
       "    <tr>\n",
       "      <th>...</th>\n",
       "      <td>...</td>\n",
       "      <td>...</td>\n",
       "      <td>...</td>\n",
       "      <td>...</td>\n",
       "      <td>...</td>\n",
       "      <td>...</td>\n",
       "      <td>...</td>\n",
       "      <td>...</td>\n",
       "      <td>...</td>\n",
       "      <td>...</td>\n",
       "      <td>...</td>\n",
       "      <td>...</td>\n",
       "      <td>...</td>\n",
       "      <td>...</td>\n",
       "      <td>...</td>\n",
       "      <td>...</td>\n",
       "      <td>...</td>\n",
       "      <td>...</td>\n",
       "      <td>...</td>\n",
       "      <td>...</td>\n",
       "      <td>...</td>\n",
       "    </tr>\n",
       "    <tr>\n",
       "      <th>4019</th>\n",
       "      <td>0.895761</td>\n",
       "      <td>-1.016886</td>\n",
       "      <td>-1.649297</td>\n",
       "      <td>-0.618172</td>\n",
       "      <td>-0.972921</td>\n",
       "      <td>-0.425148</td>\n",
       "      <td>0.0</td>\n",
       "      <td>1.0</td>\n",
       "      <td>0.0</td>\n",
       "      <td>0.0</td>\n",
       "      <td>...</td>\n",
       "      <td>0.0</td>\n",
       "      <td>0.0</td>\n",
       "      <td>0.0</td>\n",
       "      <td>1.0</td>\n",
       "      <td>0.0</td>\n",
       "      <td>0.0</td>\n",
       "      <td>1.0</td>\n",
       "      <td>0.0</td>\n",
       "      <td>1.0</td>\n",
       "      <td>1.0</td>\n",
       "    </tr>\n",
       "    <tr>\n",
       "      <th>4020</th>\n",
       "      <td>0.226270</td>\n",
       "      <td>0.735251</td>\n",
       "      <td>-0.044095</td>\n",
       "      <td>0.752041</td>\n",
       "      <td>-0.100266</td>\n",
       "      <td>-0.425148</td>\n",
       "      <td>0.0</td>\n",
       "      <td>0.0</td>\n",
       "      <td>1.0</td>\n",
       "      <td>1.0</td>\n",
       "      <td>...</td>\n",
       "      <td>0.0</td>\n",
       "      <td>0.0</td>\n",
       "      <td>0.0</td>\n",
       "      <td>1.0</td>\n",
       "      <td>0.0</td>\n",
       "      <td>0.0</td>\n",
       "      <td>1.0</td>\n",
       "      <td>0.0</td>\n",
       "      <td>1.0</td>\n",
       "      <td>1.0</td>\n",
       "    </tr>\n",
       "    <tr>\n",
       "      <th>4021</th>\n",
       "      <td>1.565253</td>\n",
       "      <td>-0.401271</td>\n",
       "      <td>-0.414526</td>\n",
       "      <td>-0.226682</td>\n",
       "      <td>-0.100266</td>\n",
       "      <td>-0.425148</td>\n",
       "      <td>0.0</td>\n",
       "      <td>0.0</td>\n",
       "      <td>1.0</td>\n",
       "      <td>0.0</td>\n",
       "      <td>...</td>\n",
       "      <td>0.0</td>\n",
       "      <td>0.0</td>\n",
       "      <td>0.0</td>\n",
       "      <td>1.0</td>\n",
       "      <td>0.0</td>\n",
       "      <td>0.0</td>\n",
       "      <td>1.0</td>\n",
       "      <td>1.0</td>\n",
       "      <td>0.0</td>\n",
       "      <td>1.0</td>\n",
       "    </tr>\n",
       "    <tr>\n",
       "      <th>4022</th>\n",
       "      <td>0.449434</td>\n",
       "      <td>0.640541</td>\n",
       "      <td>-0.414526</td>\n",
       "      <td>-0.618172</td>\n",
       "      <td>0.030632</td>\n",
       "      <td>-0.425148</td>\n",
       "      <td>1.0</td>\n",
       "      <td>0.0</td>\n",
       "      <td>0.0</td>\n",
       "      <td>1.0</td>\n",
       "      <td>...</td>\n",
       "      <td>0.0</td>\n",
       "      <td>0.0</td>\n",
       "      <td>0.0</td>\n",
       "      <td>1.0</td>\n",
       "      <td>0.0</td>\n",
       "      <td>0.0</td>\n",
       "      <td>1.0</td>\n",
       "      <td>0.0</td>\n",
       "      <td>1.0</td>\n",
       "      <td>1.0</td>\n",
       "    </tr>\n",
       "    <tr>\n",
       "      <th>4023</th>\n",
       "      <td>-0.889550</td>\n",
       "      <td>-0.022430</td>\n",
       "      <td>-0.908434</td>\n",
       "      <td>-0.422427</td>\n",
       "      <td>1.252348</td>\n",
       "      <td>-0.425148</td>\n",
       "      <td>0.0</td>\n",
       "      <td>0.0</td>\n",
       "      <td>1.0</td>\n",
       "      <td>0.0</td>\n",
       "      <td>...</td>\n",
       "      <td>0.0</td>\n",
       "      <td>0.0</td>\n",
       "      <td>0.0</td>\n",
       "      <td>1.0</td>\n",
       "      <td>0.0</td>\n",
       "      <td>0.0</td>\n",
       "      <td>1.0</td>\n",
       "      <td>0.0</td>\n",
       "      <td>1.0</td>\n",
       "      <td>1.0</td>\n",
       "    </tr>\n",
       "  </tbody>\n",
       "</table>\n",
       "<p>4024 rows × 39 columns</p>\n",
       "</div>"
      ],
      "text/plain": [
       "           Age  Tumor Size  Regional Node Examined  Reginol Node Positive  \\\n",
       "0     1.565253   -1.253661                1.190676              -0.618172   \n",
       "1    -0.443222    0.214345               -0.044095               0.164807   \n",
       "2     0.449434    1.540287               -0.044095               0.556296   \n",
       "3     0.449434   -0.590691               -1.525820              -0.618172   \n",
       "4    -0.777968    0.498475               -1.402343              -0.618172   \n",
       "...        ...         ...                     ...                    ...   \n",
       "4019  0.895761   -1.016886               -1.649297              -0.618172   \n",
       "4020  0.226270    0.735251               -0.044095               0.752041   \n",
       "4021  1.565253   -0.401271               -0.414526              -0.226682   \n",
       "4022  0.449434    0.640541               -0.414526              -0.618172   \n",
       "4023 -0.889550   -0.022430               -0.908434              -0.422427   \n",
       "\n",
       "      Survival Months    Status  Race_Black  Race_Other  Race_White  \\\n",
       "0           -0.492961 -0.425148         0.0         0.0         1.0   \n",
       "1           -0.405695 -0.425148         0.0         0.0         1.0   \n",
       "2            0.161530 -0.425148         0.0         0.0         1.0   \n",
       "3            0.554224 -0.425148         0.0         0.0         1.0   \n",
       "4           -0.929288 -0.425148         0.0         0.0         1.0   \n",
       "...               ...       ...         ...         ...         ...   \n",
       "4019        -0.972921 -0.425148         0.0         1.0         0.0   \n",
       "4020        -0.100266 -0.425148         0.0         0.0         1.0   \n",
       "4021        -0.100266 -0.425148         0.0         0.0         1.0   \n",
       "4022         0.030632 -0.425148         1.0         0.0         0.0   \n",
       "4023         1.252348 -0.425148         0.0         0.0         1.0   \n",
       "\n",
       "      Marital Status_Divorced  ...  differentiate_Well differentiated  \\\n",
       "0                         0.0  ...                                0.0   \n",
       "1                         0.0  ...                                0.0   \n",
       "2                         1.0  ...                                0.0   \n",
       "3                         0.0  ...                                0.0   \n",
       "4                         0.0  ...                                0.0   \n",
       "...                       ...  ...                                ...   \n",
       "4019                      0.0  ...                                0.0   \n",
       "4020                      1.0  ...                                0.0   \n",
       "4021                      0.0  ...                                0.0   \n",
       "4022                      1.0  ...                                0.0   \n",
       "4023                      0.0  ...                                0.0   \n",
       "\n",
       "      Grade_ anaplastic; Grade IV  Grade_1  Grade_2  Grade_3  \\\n",
       "0                             0.0      0.0      0.0      1.0   \n",
       "1                             0.0      0.0      1.0      0.0   \n",
       "2                             0.0      0.0      1.0      0.0   \n",
       "3                             0.0      0.0      0.0      1.0   \n",
       "4                             0.0      0.0      0.0      1.0   \n",
       "...                           ...      ...      ...      ...   \n",
       "4019                          0.0      0.0      1.0      0.0   \n",
       "4020                          0.0      0.0      1.0      0.0   \n",
       "4021                          0.0      0.0      1.0      0.0   \n",
       "4022                          0.0      0.0      1.0      0.0   \n",
       "4023                          0.0      0.0      1.0      0.0   \n",
       "\n",
       "      Estrogen Status_Negative  Estrogen Status_Positive  \\\n",
       "0                          0.0                       1.0   \n",
       "1                          0.0                       1.0   \n",
       "2                          0.0                       1.0   \n",
       "3                          0.0                       1.0   \n",
       "4                          0.0                       1.0   \n",
       "...                        ...                       ...   \n",
       "4019                       0.0                       1.0   \n",
       "4020                       0.0                       1.0   \n",
       "4021                       0.0                       1.0   \n",
       "4022                       0.0                       1.0   \n",
       "4023                       0.0                       1.0   \n",
       "\n",
       "      Progesterone Status_Negative  Progesterone Status_Positive  A Stage  \n",
       "0                              0.0                           1.0      1.0  \n",
       "1                              0.0                           1.0      1.0  \n",
       "2                              0.0                           1.0      1.0  \n",
       "3                              0.0                           1.0      1.0  \n",
       "4                              0.0                           1.0      1.0  \n",
       "...                            ...                           ...      ...  \n",
       "4019                           0.0                           1.0      1.0  \n",
       "4020                           0.0                           1.0      1.0  \n",
       "4021                           1.0                           0.0      1.0  \n",
       "4022                           0.0                           1.0      1.0  \n",
       "4023                           0.0                           1.0      1.0  \n",
       "\n",
       "[4024 rows x 39 columns]"
      ]
     },
     "execution_count": 5,
     "metadata": {},
     "output_type": "execute_result"
    }
   ],
   "source": [
    "data_preprocessed_df"
   ]
  },
  {
   "cell_type": "code",
   "execution_count": 6,
   "metadata": {},
   "outputs": [
    {
     "name": "stdout",
     "output_type": "stream",
     "text": [
      "cuda\n",
      "Target Variable - A Stage\n",
      "\n",
      "Training with 20.0% of the data:\n"
     ]
    },
    {
     "name": "stderr",
     "output_type": "stream",
     "text": [
      "Epochs (Train Size: 20.0%):   0%|          | 0/50 [00:00<?, ?it/s]c:\\ProgramData\\miniconda3\\envs\\breastcancer1\\Lib\\site-packages\\torch\\nn\\modules\\loss.py:538: UserWarning: Using a target size (torch.Size([32, 1])) that is different to the input size (torch.Size([32, 2])). This will likely lead to incorrect results due to broadcasting. Please ensure they have the same size.\n",
      "  return F.mse_loss(input, target, reduction=self.reduction)\n",
      "c:\\ProgramData\\miniconda3\\envs\\breastcancer1\\Lib\\site-packages\\torch\\nn\\modules\\loss.py:538: UserWarning: Using a target size (torch.Size([11, 1])) that is different to the input size (torch.Size([11, 2])). This will likely lead to incorrect results due to broadcasting. Please ensure they have the same size.\n",
      "  return F.mse_loss(input, target, reduction=self.reduction)\n",
      "c:\\ProgramData\\miniconda3\\envs\\breastcancer1\\Lib\\site-packages\\torch\\nn\\modules\\loss.py:538: UserWarning: Using a target size (torch.Size([19, 1])) that is different to the input size (torch.Size([19, 2])). This will likely lead to incorrect results due to broadcasting. Please ensure they have the same size.\n",
      "  return F.mse_loss(input, target, reduction=self.reduction)\n",
      "Epochs (Train Size: 20.0%):   6%|▌         | 3/50 [00:00<00:02, 21.71it/s]"
     ]
    },
    {
     "name": "stdout",
     "output_type": "stream",
     "text": [
      "Validation Loss: 0.2504\n",
      "Validation Loss: 0.2501\n",
      "Validation Loss: 0.2500\n",
      "Validation Loss: 0.2500\n",
      "Validation Loss: 0.2500\n"
     ]
    },
    {
     "name": "stderr",
     "output_type": "stream",
     "text": [
      "Epochs (Train Size: 20.0%):  18%|█▊        | 9/50 [00:00<00:01, 24.71it/s]"
     ]
    },
    {
     "name": "stdout",
     "output_type": "stream",
     "text": [
      "Validation Loss: 0.2500\n",
      "Validation Loss: 0.2500\n",
      "Validation Loss: 0.2500\n",
      "Validation Loss: 0.2500\n",
      "Validation Loss: 0.2500\n",
      "Validation Loss: 0.2500\n"
     ]
    },
    {
     "name": "stderr",
     "output_type": "stream",
     "text": [
      "Epochs (Train Size: 20.0%):  30%|███       | 15/50 [00:00<00:01, 25.51it/s]"
     ]
    },
    {
     "name": "stdout",
     "output_type": "stream",
     "text": [
      "Validation Loss: 0.2500\n",
      "Validation Loss: 0.2500\n",
      "Validation Loss: 0.2500\n",
      "Validation Loss: 0.2500\n",
      "Validation Loss: 0.2500\n",
      "Validation Loss: 0.2500\n"
     ]
    },
    {
     "name": "stderr",
     "output_type": "stream",
     "text": [
      "Epochs (Train Size: 20.0%):  42%|████▏     | 21/50 [00:00<00:01, 25.82it/s]"
     ]
    },
    {
     "name": "stdout",
     "output_type": "stream",
     "text": [
      "Validation Loss: 0.2500\n",
      "Validation Loss: 0.2500\n",
      "Validation Loss: 0.2500\n",
      "Validation Loss: 0.2500\n",
      "Validation Loss: 0.2500\n",
      "Validation Loss: 0.2500\n"
     ]
    },
    {
     "name": "stderr",
     "output_type": "stream",
     "text": [
      "Epochs (Train Size: 20.0%):  54%|█████▍    | 27/50 [00:01<00:00, 25.70it/s]"
     ]
    },
    {
     "name": "stdout",
     "output_type": "stream",
     "text": [
      "Validation Loss: 0.2500\n",
      "Validation Loss: 0.2500\n",
      "Validation Loss: 0.2500\n",
      "Validation Loss: 0.2500\n",
      "Validation Loss: 0.2500\n",
      "Validation Loss: 0.2500\n"
     ]
    },
    {
     "name": "stderr",
     "output_type": "stream",
     "text": [
      "Epochs (Train Size: 20.0%):  66%|██████▌   | 33/50 [00:01<00:00, 25.91it/s]"
     ]
    },
    {
     "name": "stdout",
     "output_type": "stream",
     "text": [
      "Validation Loss: 0.2500\n",
      "Validation Loss: 0.2500\n",
      "Validation Loss: 0.2500\n",
      "Validation Loss: 0.2500\n",
      "Validation Loss: 0.2500\n",
      "Validation Loss: 0.2500\n"
     ]
    },
    {
     "name": "stderr",
     "output_type": "stream",
     "text": [
      "Epochs (Train Size: 20.0%):  78%|███████▊  | 39/50 [00:01<00:00, 25.84it/s]"
     ]
    },
    {
     "name": "stdout",
     "output_type": "stream",
     "text": [
      "Validation Loss: 0.2500\n",
      "Validation Loss: 0.2500\n",
      "Validation Loss: 0.2500\n",
      "Validation Loss: 0.2500\n",
      "Validation Loss: 0.2500\n",
      "Validation Loss: 0.2500\n"
     ]
    },
    {
     "name": "stderr",
     "output_type": "stream",
     "text": [
      "Epochs (Train Size: 20.0%):  90%|█████████ | 45/50 [00:01<00:00, 25.39it/s]"
     ]
    },
    {
     "name": "stdout",
     "output_type": "stream",
     "text": [
      "Validation Loss: 0.2500\n",
      "Validation Loss: 0.2500\n",
      "Validation Loss: 0.2500\n",
      "Validation Loss: 0.2500\n",
      "Validation Loss: 0.2500\n",
      "Validation Loss: 0.2500\n"
     ]
    },
    {
     "name": "stderr",
     "output_type": "stream",
     "text": [
      "Epochs (Train Size: 20.0%): 100%|██████████| 50/50 [00:01<00:00, 25.42it/s]\n"
     ]
    },
    {
     "name": "stdout",
     "output_type": "stream",
     "text": [
      "Validation Loss: 0.2500\n",
      "Validation Loss: 0.2500\n",
      "Validation Loss: 0.2500\n"
     ]
    },
    {
     "name": "stderr",
     "output_type": "stream",
     "text": [
      "c:\\ProgramData\\miniconda3\\envs\\breastcancer1\\Lib\\site-packages\\torch\\nn\\modules\\loss.py:538: UserWarning: Using a target size (torch.Size([14, 1])) that is different to the input size (torch.Size([14, 2])). This will likely lead to incorrect results due to broadcasting. Please ensure they have the same size.\n",
      "  return F.mse_loss(input, target, reduction=self.reduction)\n"
     ]
    },
    {
     "name": "stdout",
     "output_type": "stream",
     "text": [
      "Test Loss: 0.2500\n",
      "Accuracy: 1572.37%\n",
      "\n",
      "Training with 40.0% of the data:\n"
     ]
    },
    {
     "name": "stderr",
     "output_type": "stream",
     "text": [
      "Epochs (Train Size: 40.0%):   0%|          | 0/50 [00:00<?, ?it/s]c:\\ProgramData\\miniconda3\\envs\\breastcancer1\\Lib\\site-packages\\torch\\nn\\modules\\loss.py:538: UserWarning: Using a target size (torch.Size([22, 1])) that is different to the input size (torch.Size([22, 2])). This will likely lead to incorrect results due to broadcasting. Please ensure they have the same size.\n",
      "  return F.mse_loss(input, target, reduction=self.reduction)\n",
      "Epochs (Train Size: 40.0%):   4%|▍         | 2/50 [00:00<00:03, 12.96it/s]"
     ]
    },
    {
     "name": "stdout",
     "output_type": "stream",
     "text": [
      "Validation Loss: 0.2515\n",
      "Validation Loss: 0.2503\n"
     ]
    },
    {
     "name": "stderr",
     "output_type": "stream",
     "text": [
      "Epochs (Train Size: 40.0%):   8%|▊         | 4/50 [00:00<00:03, 14.19it/s]"
     ]
    },
    {
     "name": "stdout",
     "output_type": "stream",
     "text": [
      "Validation Loss: 0.2500\n",
      "Validation Loss: 0.2500\n"
     ]
    },
    {
     "name": "stderr",
     "output_type": "stream",
     "text": [
      "Epochs (Train Size: 40.0%):  12%|█▏        | 6/50 [00:00<00:03, 14.49it/s]"
     ]
    },
    {
     "name": "stdout",
     "output_type": "stream",
     "text": [
      "Validation Loss: 0.2500\n",
      "Validation Loss: 0.2500\n"
     ]
    },
    {
     "name": "stderr",
     "output_type": "stream",
     "text": [
      "Epochs (Train Size: 40.0%):  16%|█▌        | 8/50 [00:00<00:02, 14.69it/s]"
     ]
    },
    {
     "name": "stdout",
     "output_type": "stream",
     "text": [
      "Validation Loss: 0.2500\n",
      "Validation Loss: 0.2500\n"
     ]
    },
    {
     "name": "stderr",
     "output_type": "stream",
     "text": [
      "Epochs (Train Size: 40.0%):  20%|██        | 10/50 [00:00<00:02, 14.66it/s]"
     ]
    },
    {
     "name": "stdout",
     "output_type": "stream",
     "text": [
      "Validation Loss: 0.2500\n",
      "Validation Loss: 0.2500\n",
      "Validation Loss: 0.2500\n"
     ]
    },
    {
     "name": "stderr",
     "output_type": "stream",
     "text": [
      "Epochs (Train Size: 40.0%):  28%|██▊       | 14/50 [00:00<00:02, 14.97it/s]"
     ]
    },
    {
     "name": "stdout",
     "output_type": "stream",
     "text": [
      "Validation Loss: 0.2500\n",
      "Validation Loss: 0.2500\n",
      "Validation Loss: 0.2500\n",
      "Validation Loss: 0.2500\n"
     ]
    },
    {
     "name": "stderr",
     "output_type": "stream",
     "text": [
      "Epochs (Train Size: 40.0%):  32%|███▏      | 16/50 [00:01<00:02, 15.05it/s]"
     ]
    },
    {
     "name": "stdout",
     "output_type": "stream",
     "text": [
      "Validation Loss: 0.2500\n",
      "Validation Loss: 0.2500\n"
     ]
    },
    {
     "name": "stderr",
     "output_type": "stream",
     "text": [
      "Epochs (Train Size: 40.0%):  36%|███▌      | 18/50 [00:01<00:02, 15.08it/s]"
     ]
    },
    {
     "name": "stdout",
     "output_type": "stream",
     "text": [
      "Validation Loss: 0.2500\n",
      "Validation Loss: 0.2500\n"
     ]
    },
    {
     "name": "stderr",
     "output_type": "stream",
     "text": [
      "Epochs (Train Size: 40.0%):  40%|████      | 20/50 [00:01<00:01, 15.07it/s]"
     ]
    },
    {
     "name": "stdout",
     "output_type": "stream",
     "text": [
      "Validation Loss: 0.2500\n"
     ]
    },
    {
     "name": "stderr",
     "output_type": "stream",
     "text": [
      "Epochs (Train Size: 40.0%):  44%|████▍     | 22/50 [00:01<00:01, 15.04it/s]"
     ]
    },
    {
     "name": "stdout",
     "output_type": "stream",
     "text": [
      "Validation Loss: 0.2500\n",
      "Validation Loss: 0.2500\n",
      "Validation Loss: 0.2500\n"
     ]
    },
    {
     "name": "stderr",
     "output_type": "stream",
     "text": [
      "Epochs (Train Size: 40.0%):  52%|█████▏    | 26/50 [00:01<00:01, 15.03it/s]"
     ]
    },
    {
     "name": "stdout",
     "output_type": "stream",
     "text": [
      "Validation Loss: 0.2500\n",
      "Validation Loss: 0.2500\n",
      "Validation Loss: 0.2500\n",
      "Validation Loss: 0.2500\n"
     ]
    },
    {
     "name": "stderr",
     "output_type": "stream",
     "text": [
      "Epochs (Train Size: 40.0%):  60%|██████    | 30/50 [00:02<00:01, 14.46it/s]"
     ]
    },
    {
     "name": "stdout",
     "output_type": "stream",
     "text": [
      "Validation Loss: 0.2500\n",
      "Validation Loss: 0.2500\n",
      "Validation Loss: 0.2500\n"
     ]
    },
    {
     "name": "stderr",
     "output_type": "stream",
     "text": [
      "Epochs (Train Size: 40.0%):  64%|██████▍   | 32/50 [00:02<00:01, 14.21it/s]"
     ]
    },
    {
     "name": "stdout",
     "output_type": "stream",
     "text": [
      "Validation Loss: 0.2500\n",
      "Validation Loss: 0.2500\n",
      "Validation Loss: 0.2500\n"
     ]
    },
    {
     "name": "stderr",
     "output_type": "stream",
     "text": [
      "Epochs (Train Size: 40.0%):  72%|███████▏  | 36/50 [00:02<00:00, 14.52it/s]"
     ]
    },
    {
     "name": "stdout",
     "output_type": "stream",
     "text": [
      "Validation Loss: 0.2500\n",
      "Validation Loss: 0.2500\n",
      "Validation Loss: 0.2500\n",
      "Validation Loss: 0.2500\n"
     ]
    },
    {
     "name": "stderr",
     "output_type": "stream",
     "text": [
      "Epochs (Train Size: 40.0%):  80%|████████  | 40/50 [00:02<00:00, 14.72it/s]"
     ]
    },
    {
     "name": "stdout",
     "output_type": "stream",
     "text": [
      "Validation Loss: 0.2500\n",
      "Validation Loss: 0.2500\n",
      "Validation Loss: 0.2500\n",
      "Validation Loss: 0.2500\n"
     ]
    },
    {
     "name": "stderr",
     "output_type": "stream",
     "text": [
      "Epochs (Train Size: 40.0%):  88%|████████▊ | 44/50 [00:02<00:00, 14.81it/s]"
     ]
    },
    {
     "name": "stdout",
     "output_type": "stream",
     "text": [
      "Validation Loss: 0.2500\n",
      "Validation Loss: 0.2500\n",
      "Validation Loss: 0.2500\n",
      "Validation Loss: 0.2500\n"
     ]
    },
    {
     "name": "stderr",
     "output_type": "stream",
     "text": [
      "Epochs (Train Size: 40.0%):  96%|█████████▌| 48/50 [00:03<00:00, 14.76it/s]"
     ]
    },
    {
     "name": "stdout",
     "output_type": "stream",
     "text": [
      "Validation Loss: 0.2500\n",
      "Validation Loss: 0.2500\n",
      "Validation Loss: 0.2500\n",
      "Validation Loss: 0.2500\n"
     ]
    },
    {
     "name": "stderr",
     "output_type": "stream",
     "text": [
      "Epochs (Train Size: 40.0%): 100%|██████████| 50/50 [00:03<00:00, 14.73it/s]\n"
     ]
    },
    {
     "name": "stdout",
     "output_type": "stream",
     "text": [
      "Validation Loss: 0.2500\n",
      "Test Loss: 0.2500\n",
      "Accuracy: 1764.61%\n",
      "\n",
      "Training with 60.0% of the data:\n"
     ]
    },
    {
     "name": "stderr",
     "output_type": "stream",
     "text": [
      "Epochs (Train Size: 60.0%):   0%|          | 0/50 [00:00<?, ?it/s]c:\\ProgramData\\miniconda3\\envs\\breastcancer1\\Lib\\site-packages\\torch\\nn\\modules\\loss.py:538: UserWarning: Using a target size (torch.Size([1, 1])) that is different to the input size (torch.Size([1, 2])). This will likely lead to incorrect results due to broadcasting. Please ensure they have the same size.\n",
      "  return F.mse_loss(input, target, reduction=self.reduction)\n",
      "Epochs (Train Size: 60.0%):   2%|▏         | 1/50 [00:00<00:05,  8.85it/s]"
     ]
    },
    {
     "name": "stdout",
     "output_type": "stream",
     "text": [
      "Validation Loss: 0.2506\n"
     ]
    },
    {
     "name": "stderr",
     "output_type": "stream",
     "text": [
      "Epochs (Train Size: 60.0%):   6%|▌         | 3/50 [00:00<00:04,  9.80it/s]"
     ]
    },
    {
     "name": "stdout",
     "output_type": "stream",
     "text": [
      "Validation Loss: 0.2503\n",
      "Validation Loss: 0.2501\n",
      "Validation Loss: 0.2500\n"
     ]
    },
    {
     "name": "stderr",
     "output_type": "stream",
     "text": [
      "Epochs (Train Size: 60.0%):  10%|█         | 5/50 [00:00<00:04,  9.98it/s]"
     ]
    },
    {
     "name": "stdout",
     "output_type": "stream",
     "text": [
      "Validation Loss: 0.2500\n",
      "Validation Loss: 0.2500\n"
     ]
    },
    {
     "name": "stderr",
     "output_type": "stream",
     "text": [
      "Epochs (Train Size: 60.0%):  14%|█▍        | 7/50 [00:00<00:04, 10.12it/s]"
     ]
    },
    {
     "name": "stdout",
     "output_type": "stream",
     "text": [
      "Validation Loss: 0.2500\n"
     ]
    },
    {
     "name": "stderr",
     "output_type": "stream",
     "text": [
      "Epochs (Train Size: 60.0%):  18%|█▊        | 9/50 [00:00<00:04, 10.23it/s]"
     ]
    },
    {
     "name": "stdout",
     "output_type": "stream",
     "text": [
      "Validation Loss: 0.2500\n",
      "Validation Loss: 0.2500\n",
      "Validation Loss: 0.2500\n"
     ]
    },
    {
     "name": "stderr",
     "output_type": "stream",
     "text": [
      "Epochs (Train Size: 60.0%):  22%|██▏       | 11/50 [00:01<00:03, 10.17it/s]"
     ]
    },
    {
     "name": "stdout",
     "output_type": "stream",
     "text": [
      "Validation Loss: 0.2500\n",
      "Validation Loss: 0.2500\n"
     ]
    },
    {
     "name": "stderr",
     "output_type": "stream",
     "text": [
      "Epochs (Train Size: 60.0%):  26%|██▌       | 13/50 [00:01<00:03, 10.17it/s]"
     ]
    },
    {
     "name": "stdout",
     "output_type": "stream",
     "text": [
      "Validation Loss: 0.2500\n"
     ]
    },
    {
     "name": "stderr",
     "output_type": "stream",
     "text": [
      "Epochs (Train Size: 60.0%):  30%|███       | 15/50 [00:01<00:03, 10.18it/s]"
     ]
    },
    {
     "name": "stdout",
     "output_type": "stream",
     "text": [
      "Validation Loss: 0.2500\n",
      "Validation Loss: 0.2500\n",
      "Validation Loss: 0.2500\n"
     ]
    },
    {
     "name": "stderr",
     "output_type": "stream",
     "text": [
      "Epochs (Train Size: 60.0%):  34%|███▍      | 17/50 [00:01<00:03, 10.21it/s]"
     ]
    },
    {
     "name": "stdout",
     "output_type": "stream",
     "text": [
      "Validation Loss: 0.2500\n",
      "Validation Loss: 0.2500\n"
     ]
    },
    {
     "name": "stderr",
     "output_type": "stream",
     "text": [
      "Epochs (Train Size: 60.0%):  38%|███▊      | 19/50 [00:01<00:03, 10.26it/s]"
     ]
    },
    {
     "name": "stdout",
     "output_type": "stream",
     "text": [
      "Validation Loss: 0.2500\n"
     ]
    },
    {
     "name": "stderr",
     "output_type": "stream",
     "text": [
      "Epochs (Train Size: 60.0%):  42%|████▏     | 21/50 [00:02<00:02, 10.32it/s]"
     ]
    },
    {
     "name": "stdout",
     "output_type": "stream",
     "text": [
      "Validation Loss: 0.2500\n",
      "Validation Loss: 0.2500\n",
      "Validation Loss: 0.2500\n"
     ]
    },
    {
     "name": "stderr",
     "output_type": "stream",
     "text": [
      "Epochs (Train Size: 60.0%):  46%|████▌     | 23/50 [00:02<00:02, 10.26it/s]"
     ]
    },
    {
     "name": "stdout",
     "output_type": "stream",
     "text": [
      "Validation Loss: 0.2500\n",
      "Validation Loss: 0.2500\n"
     ]
    },
    {
     "name": "stderr",
     "output_type": "stream",
     "text": [
      "Epochs (Train Size: 60.0%):  54%|█████▍    | 27/50 [00:02<00:02, 10.23it/s]"
     ]
    },
    {
     "name": "stdout",
     "output_type": "stream",
     "text": [
      "Validation Loss: 0.2500\n",
      "Validation Loss: 0.2500\n",
      "Validation Loss: 0.2500\n"
     ]
    },
    {
     "name": "stderr",
     "output_type": "stream",
     "text": [
      "Epochs (Train Size: 60.0%):  58%|█████▊    | 29/50 [00:02<00:02, 10.22it/s]"
     ]
    },
    {
     "name": "stdout",
     "output_type": "stream",
     "text": [
      "Validation Loss: 0.2500\n",
      "Validation Loss: 0.2500\n",
      "Validation Loss: 0.2500\n"
     ]
    },
    {
     "name": "stderr",
     "output_type": "stream",
     "text": [
      "Epochs (Train Size: 60.0%):  66%|██████▌   | 33/50 [00:03<00:01, 10.19it/s]"
     ]
    },
    {
     "name": "stdout",
     "output_type": "stream",
     "text": [
      "Validation Loss: 0.2500\n",
      "Validation Loss: 0.2500\n",
      "Validation Loss: 0.2500\n"
     ]
    },
    {
     "name": "stderr",
     "output_type": "stream",
     "text": [
      "Epochs (Train Size: 60.0%):  70%|███████   | 35/50 [00:03<00:01, 10.19it/s]"
     ]
    },
    {
     "name": "stdout",
     "output_type": "stream",
     "text": [
      "Validation Loss: 0.2500\n",
      "Validation Loss: 0.2500\n"
     ]
    },
    {
     "name": "stderr",
     "output_type": "stream",
     "text": [
      "Epochs (Train Size: 60.0%):  74%|███████▍  | 37/50 [00:03<00:01, 10.10it/s]"
     ]
    },
    {
     "name": "stdout",
     "output_type": "stream",
     "text": [
      "Validation Loss: 0.2500\n",
      "Validation Loss: 0.2500\n",
      "Validation Loss: 0.2500\n"
     ]
    },
    {
     "name": "stderr",
     "output_type": "stream",
     "text": [
      "Epochs (Train Size: 60.0%):  82%|████████▏ | 41/50 [00:04<00:00, 10.16it/s]"
     ]
    },
    {
     "name": "stdout",
     "output_type": "stream",
     "text": [
      "Validation Loss: 0.2500\n",
      "Validation Loss: 0.2500\n",
      "Validation Loss: 0.2500\n"
     ]
    },
    {
     "name": "stderr",
     "output_type": "stream",
     "text": [
      "Epochs (Train Size: 60.0%):  86%|████████▌ | 43/50 [00:04<00:00, 10.13it/s]"
     ]
    },
    {
     "name": "stdout",
     "output_type": "stream",
     "text": [
      "Validation Loss: 0.2500\n",
      "Validation Loss: 0.2500\n",
      "Validation Loss: 0.2500\n"
     ]
    },
    {
     "name": "stderr",
     "output_type": "stream",
     "text": [
      "Epochs (Train Size: 60.0%):  94%|█████████▍| 47/50 [00:04<00:00, 10.11it/s]"
     ]
    },
    {
     "name": "stdout",
     "output_type": "stream",
     "text": [
      "Validation Loss: 0.2500\n",
      "Validation Loss: 0.2500\n",
      "Validation Loss: 0.2500\n"
     ]
    },
    {
     "name": "stderr",
     "output_type": "stream",
     "text": [
      "Epochs (Train Size: 60.0%): 100%|██████████| 50/50 [00:04<00:00, 10.16it/s]"
     ]
    },
    {
     "name": "stdout",
     "output_type": "stream",
     "text": [
      "Validation Loss: 0.2500\n",
      "Validation Loss: 0.2500\n",
      "Validation Loss: 0.2500\n"
     ]
    },
    {
     "name": "stderr",
     "output_type": "stream",
     "text": [
      "\n"
     ]
    },
    {
     "name": "stdout",
     "output_type": "stream",
     "text": [
      "Test Loss: 0.2500\n",
      "Accuracy: 1456.86%\n",
      "\n",
      "Training with 80.0% of the data:\n"
     ]
    },
    {
     "name": "stderr",
     "output_type": "stream",
     "text": [
      "Epochs (Train Size: 80.0%):   0%|          | 0/50 [00:00<?, ?it/s]c:\\ProgramData\\miniconda3\\envs\\breastcancer1\\Lib\\site-packages\\torch\\nn\\modules\\loss.py:538: UserWarning: Using a target size (torch.Size([12, 1])) that is different to the input size (torch.Size([12, 2])). This will likely lead to incorrect results due to broadcasting. Please ensure they have the same size.\n",
      "  return F.mse_loss(input, target, reduction=self.reduction)\n",
      "Epochs (Train Size: 80.0%):   2%|▏         | 1/50 [00:00<00:06,  7.46it/s]"
     ]
    },
    {
     "name": "stdout",
     "output_type": "stream",
     "text": [
      "Validation Loss: 0.2504\n"
     ]
    },
    {
     "name": "stderr",
     "output_type": "stream",
     "text": [
      "Epochs (Train Size: 80.0%):   4%|▍         | 2/50 [00:00<00:06,  7.80it/s]"
     ]
    },
    {
     "name": "stdout",
     "output_type": "stream",
     "text": [
      "Validation Loss: 0.2500\n"
     ]
    },
    {
     "name": "stderr",
     "output_type": "stream",
     "text": [
      "Epochs (Train Size: 80.0%):   6%|▌         | 3/50 [00:00<00:05,  7.94it/s]"
     ]
    },
    {
     "name": "stdout",
     "output_type": "stream",
     "text": [
      "Validation Loss: 0.2500\n"
     ]
    },
    {
     "name": "stderr",
     "output_type": "stream",
     "text": [
      "Epochs (Train Size: 80.0%):   8%|▊         | 4/50 [00:00<00:05,  7.98it/s]"
     ]
    },
    {
     "name": "stdout",
     "output_type": "stream",
     "text": [
      "Validation Loss: 0.2500\n"
     ]
    },
    {
     "name": "stderr",
     "output_type": "stream",
     "text": [
      "Epochs (Train Size: 80.0%):  10%|█         | 5/50 [00:00<00:05,  8.00it/s]"
     ]
    },
    {
     "name": "stdout",
     "output_type": "stream",
     "text": [
      "Validation Loss: 0.2500\n"
     ]
    },
    {
     "name": "stderr",
     "output_type": "stream",
     "text": [
      "Epochs (Train Size: 80.0%):  12%|█▏        | 6/50 [00:00<00:05,  8.05it/s]"
     ]
    },
    {
     "name": "stdout",
     "output_type": "stream",
     "text": [
      "Validation Loss: 0.2500\n"
     ]
    },
    {
     "name": "stderr",
     "output_type": "stream",
     "text": [
      "Epochs (Train Size: 80.0%):  14%|█▍        | 7/50 [00:00<00:05,  8.04it/s]"
     ]
    },
    {
     "name": "stdout",
     "output_type": "stream",
     "text": [
      "Validation Loss: 0.2500\n"
     ]
    },
    {
     "name": "stderr",
     "output_type": "stream",
     "text": [
      "Epochs (Train Size: 80.0%):  16%|█▌        | 8/50 [00:01<00:05,  8.07it/s]"
     ]
    },
    {
     "name": "stdout",
     "output_type": "stream",
     "text": [
      "Validation Loss: 0.2500\n"
     ]
    },
    {
     "name": "stderr",
     "output_type": "stream",
     "text": [
      "Epochs (Train Size: 80.0%):  18%|█▊        | 9/50 [00:01<00:05,  8.10it/s]"
     ]
    },
    {
     "name": "stdout",
     "output_type": "stream",
     "text": [
      "Validation Loss: 0.2500\n"
     ]
    },
    {
     "name": "stderr",
     "output_type": "stream",
     "text": [
      "Epochs (Train Size: 80.0%):  20%|██        | 10/50 [00:01<00:04,  8.18it/s]"
     ]
    },
    {
     "name": "stdout",
     "output_type": "stream",
     "text": [
      "Validation Loss: 0.2500\n"
     ]
    },
    {
     "name": "stderr",
     "output_type": "stream",
     "text": [
      "Epochs (Train Size: 80.0%):  22%|██▏       | 11/50 [00:01<00:04,  8.03it/s]"
     ]
    },
    {
     "name": "stdout",
     "output_type": "stream",
     "text": [
      "Validation Loss: 0.2500\n"
     ]
    },
    {
     "name": "stderr",
     "output_type": "stream",
     "text": [
      "Epochs (Train Size: 80.0%):  24%|██▍       | 12/50 [00:01<00:04,  8.04it/s]"
     ]
    },
    {
     "name": "stdout",
     "output_type": "stream",
     "text": [
      "Validation Loss: 0.2500\n"
     ]
    },
    {
     "name": "stderr",
     "output_type": "stream",
     "text": [
      "Epochs (Train Size: 80.0%):  26%|██▌       | 13/50 [00:01<00:04,  8.04it/s]"
     ]
    },
    {
     "name": "stdout",
     "output_type": "stream",
     "text": [
      "Validation Loss: 0.2500\n"
     ]
    },
    {
     "name": "stderr",
     "output_type": "stream",
     "text": [
      "Epochs (Train Size: 80.0%):  28%|██▊       | 14/50 [00:01<00:04,  8.05it/s]"
     ]
    },
    {
     "name": "stdout",
     "output_type": "stream",
     "text": [
      "Validation Loss: 0.2500\n"
     ]
    },
    {
     "name": "stderr",
     "output_type": "stream",
     "text": [
      "Epochs (Train Size: 80.0%):  30%|███       | 15/50 [00:01<00:04,  8.05it/s]"
     ]
    },
    {
     "name": "stdout",
     "output_type": "stream",
     "text": [
      "Validation Loss: 0.2500\n"
     ]
    },
    {
     "name": "stderr",
     "output_type": "stream",
     "text": [
      "Epochs (Train Size: 80.0%):  32%|███▏      | 16/50 [00:01<00:04,  8.06it/s]"
     ]
    },
    {
     "name": "stdout",
     "output_type": "stream",
     "text": [
      "Validation Loss: 0.2500\n"
     ]
    },
    {
     "name": "stderr",
     "output_type": "stream",
     "text": [
      "Epochs (Train Size: 80.0%):  34%|███▍      | 17/50 [00:02<00:04,  8.06it/s]"
     ]
    },
    {
     "name": "stdout",
     "output_type": "stream",
     "text": [
      "Validation Loss: 0.2500\n"
     ]
    },
    {
     "name": "stderr",
     "output_type": "stream",
     "text": [
      "Epochs (Train Size: 80.0%):  36%|███▌      | 18/50 [00:02<00:03,  8.09it/s]"
     ]
    },
    {
     "name": "stdout",
     "output_type": "stream",
     "text": [
      "Validation Loss: 0.2500\n"
     ]
    },
    {
     "name": "stderr",
     "output_type": "stream",
     "text": [
      "Epochs (Train Size: 80.0%):  38%|███▊      | 19/50 [00:02<00:03,  8.08it/s]"
     ]
    },
    {
     "name": "stdout",
     "output_type": "stream",
     "text": [
      "Validation Loss: 0.2500\n"
     ]
    },
    {
     "name": "stderr",
     "output_type": "stream",
     "text": [
      "Epochs (Train Size: 80.0%):  40%|████      | 20/50 [00:02<00:03,  8.10it/s]"
     ]
    },
    {
     "name": "stdout",
     "output_type": "stream",
     "text": [
      "Validation Loss: 0.2500\n"
     ]
    },
    {
     "name": "stderr",
     "output_type": "stream",
     "text": [
      "Epochs (Train Size: 80.0%):  42%|████▏     | 21/50 [00:02<00:03,  8.15it/s]"
     ]
    },
    {
     "name": "stdout",
     "output_type": "stream",
     "text": [
      "Validation Loss: 0.2500\n"
     ]
    },
    {
     "name": "stderr",
     "output_type": "stream",
     "text": [
      "Epochs (Train Size: 80.0%):  44%|████▍     | 22/50 [00:02<00:03,  8.16it/s]"
     ]
    },
    {
     "name": "stdout",
     "output_type": "stream",
     "text": [
      "Validation Loss: 0.2500\n"
     ]
    },
    {
     "name": "stderr",
     "output_type": "stream",
     "text": [
      "Epochs (Train Size: 80.0%):  46%|████▌     | 23/50 [00:02<00:03,  8.16it/s]"
     ]
    },
    {
     "name": "stdout",
     "output_type": "stream",
     "text": [
      "Validation Loss: 0.2500\n"
     ]
    },
    {
     "name": "stderr",
     "output_type": "stream",
     "text": [
      "Epochs (Train Size: 80.0%):  48%|████▊     | 24/50 [00:02<00:03,  8.12it/s]"
     ]
    },
    {
     "name": "stdout",
     "output_type": "stream",
     "text": [
      "Validation Loss: 0.2500\n"
     ]
    },
    {
     "name": "stderr",
     "output_type": "stream",
     "text": [
      "Epochs (Train Size: 80.0%):  50%|█████     | 25/50 [00:03<00:03,  8.13it/s]"
     ]
    },
    {
     "name": "stdout",
     "output_type": "stream",
     "text": [
      "Validation Loss: 0.2500\n"
     ]
    },
    {
     "name": "stderr",
     "output_type": "stream",
     "text": [
      "Epochs (Train Size: 80.0%):  52%|█████▏    | 26/50 [00:03<00:02,  8.14it/s]"
     ]
    },
    {
     "name": "stdout",
     "output_type": "stream",
     "text": [
      "Validation Loss: 0.2500\n"
     ]
    },
    {
     "name": "stderr",
     "output_type": "stream",
     "text": [
      "Epochs (Train Size: 80.0%):  54%|█████▍    | 27/50 [00:03<00:02,  8.16it/s]"
     ]
    },
    {
     "name": "stdout",
     "output_type": "stream",
     "text": [
      "Validation Loss: 0.2500\n"
     ]
    },
    {
     "name": "stderr",
     "output_type": "stream",
     "text": [
      "Epochs (Train Size: 80.0%):  56%|█████▌    | 28/50 [00:03<00:02,  8.18it/s]"
     ]
    },
    {
     "name": "stdout",
     "output_type": "stream",
     "text": [
      "Validation Loss: 0.2500\n"
     ]
    },
    {
     "name": "stderr",
     "output_type": "stream",
     "text": [
      "Epochs (Train Size: 80.0%):  58%|█████▊    | 29/50 [00:03<00:02,  8.17it/s]"
     ]
    },
    {
     "name": "stdout",
     "output_type": "stream",
     "text": [
      "Validation Loss: 0.2500\n"
     ]
    },
    {
     "name": "stderr",
     "output_type": "stream",
     "text": [
      "Epochs (Train Size: 80.0%):  60%|██████    | 30/50 [00:03<00:02,  8.22it/s]"
     ]
    },
    {
     "name": "stdout",
     "output_type": "stream",
     "text": [
      "Validation Loss: 0.2500\n"
     ]
    },
    {
     "name": "stderr",
     "output_type": "stream",
     "text": [
      "Epochs (Train Size: 80.0%):  62%|██████▏   | 31/50 [00:03<00:02,  8.20it/s]"
     ]
    },
    {
     "name": "stdout",
     "output_type": "stream",
     "text": [
      "Validation Loss: 0.2500\n"
     ]
    },
    {
     "name": "stderr",
     "output_type": "stream",
     "text": [
      "Epochs (Train Size: 80.0%):  64%|██████▍   | 32/50 [00:03<00:02,  8.14it/s]"
     ]
    },
    {
     "name": "stdout",
     "output_type": "stream",
     "text": [
      "Validation Loss: 0.2500\n"
     ]
    },
    {
     "name": "stderr",
     "output_type": "stream",
     "text": [
      "Epochs (Train Size: 80.0%):  66%|██████▌   | 33/50 [00:04<00:02,  8.16it/s]"
     ]
    },
    {
     "name": "stdout",
     "output_type": "stream",
     "text": [
      "Validation Loss: 0.2500\n"
     ]
    },
    {
     "name": "stderr",
     "output_type": "stream",
     "text": [
      "Epochs (Train Size: 80.0%):  68%|██████▊   | 34/50 [00:04<00:01,  8.12it/s]"
     ]
    },
    {
     "name": "stdout",
     "output_type": "stream",
     "text": [
      "Validation Loss: 0.2500\n"
     ]
    },
    {
     "name": "stderr",
     "output_type": "stream",
     "text": [
      "Epochs (Train Size: 80.0%):  70%|███████   | 35/50 [00:04<00:01,  8.08it/s]"
     ]
    },
    {
     "name": "stdout",
     "output_type": "stream",
     "text": [
      "Validation Loss: 0.2500\n"
     ]
    },
    {
     "name": "stderr",
     "output_type": "stream",
     "text": [
      "Epochs (Train Size: 80.0%):  72%|███████▏  | 36/50 [00:04<00:01,  8.10it/s]"
     ]
    },
    {
     "name": "stdout",
     "output_type": "stream",
     "text": [
      "Validation Loss: 0.2500\n"
     ]
    },
    {
     "name": "stderr",
     "output_type": "stream",
     "text": [
      "Epochs (Train Size: 80.0%):  74%|███████▍  | 37/50 [00:04<00:01,  8.06it/s]"
     ]
    },
    {
     "name": "stdout",
     "output_type": "stream",
     "text": [
      "Validation Loss: 0.2500\n"
     ]
    },
    {
     "name": "stderr",
     "output_type": "stream",
     "text": [
      "Epochs (Train Size: 80.0%):  76%|███████▌  | 38/50 [00:04<00:01,  8.06it/s]"
     ]
    },
    {
     "name": "stdout",
     "output_type": "stream",
     "text": [
      "Validation Loss: 0.2500\n"
     ]
    },
    {
     "name": "stderr",
     "output_type": "stream",
     "text": [
      "Epochs (Train Size: 80.0%):  78%|███████▊  | 39/50 [00:04<00:01,  8.03it/s]"
     ]
    },
    {
     "name": "stdout",
     "output_type": "stream",
     "text": [
      "Validation Loss: 0.2500\n"
     ]
    },
    {
     "name": "stderr",
     "output_type": "stream",
     "text": [
      "Epochs (Train Size: 80.0%):  80%|████████  | 40/50 [00:04<00:01,  8.05it/s]"
     ]
    },
    {
     "name": "stdout",
     "output_type": "stream",
     "text": [
      "Validation Loss: 0.2500\n"
     ]
    },
    {
     "name": "stderr",
     "output_type": "stream",
     "text": [
      "Epochs (Train Size: 80.0%):  82%|████████▏ | 41/50 [00:05<00:01,  8.05it/s]"
     ]
    },
    {
     "name": "stdout",
     "output_type": "stream",
     "text": [
      "Validation Loss: 0.2500\n"
     ]
    },
    {
     "name": "stderr",
     "output_type": "stream",
     "text": [
      "Epochs (Train Size: 80.0%):  84%|████████▍ | 42/50 [00:05<00:00,  8.06it/s]"
     ]
    },
    {
     "name": "stdout",
     "output_type": "stream",
     "text": [
      "Validation Loss: 0.2500\n"
     ]
    },
    {
     "name": "stderr",
     "output_type": "stream",
     "text": [
      "Epochs (Train Size: 80.0%):  86%|████████▌ | 43/50 [00:05<00:00,  8.05it/s]"
     ]
    },
    {
     "name": "stdout",
     "output_type": "stream",
     "text": [
      "Validation Loss: 0.2500\n"
     ]
    },
    {
     "name": "stderr",
     "output_type": "stream",
     "text": [
      "Epochs (Train Size: 80.0%):  88%|████████▊ | 44/50 [00:05<00:00,  8.07it/s]"
     ]
    },
    {
     "name": "stdout",
     "output_type": "stream",
     "text": [
      "Validation Loss: 0.2500\n"
     ]
    },
    {
     "name": "stderr",
     "output_type": "stream",
     "text": [
      "Epochs (Train Size: 80.0%):  90%|█████████ | 45/50 [00:05<00:00,  8.06it/s]"
     ]
    },
    {
     "name": "stdout",
     "output_type": "stream",
     "text": [
      "Validation Loss: 0.2500\n"
     ]
    },
    {
     "name": "stderr",
     "output_type": "stream",
     "text": [
      "Epochs (Train Size: 80.0%):  92%|█████████▏| 46/50 [00:05<00:00,  7.97it/s]"
     ]
    },
    {
     "name": "stdout",
     "output_type": "stream",
     "text": [
      "Validation Loss: 0.2500\n"
     ]
    },
    {
     "name": "stderr",
     "output_type": "stream",
     "text": [
      "Epochs (Train Size: 80.0%):  94%|█████████▍| 47/50 [00:05<00:00,  7.93it/s]"
     ]
    },
    {
     "name": "stdout",
     "output_type": "stream",
     "text": [
      "Validation Loss: 0.2500\n"
     ]
    },
    {
     "name": "stderr",
     "output_type": "stream",
     "text": [
      "Epochs (Train Size: 80.0%):  96%|█████████▌| 48/50 [00:05<00:00,  7.87it/s]"
     ]
    },
    {
     "name": "stdout",
     "output_type": "stream",
     "text": [
      "Validation Loss: 0.2500\n"
     ]
    },
    {
     "name": "stderr",
     "output_type": "stream",
     "text": [
      "Epochs (Train Size: 80.0%):  98%|█████████▊| 49/50 [00:06<00:00,  7.94it/s]"
     ]
    },
    {
     "name": "stdout",
     "output_type": "stream",
     "text": [
      "Validation Loss: 0.2500\n"
     ]
    },
    {
     "name": "stderr",
     "output_type": "stream",
     "text": [
      "Epochs (Train Size: 80.0%): 100%|██████████| 50/50 [00:06<00:00,  8.06it/s]\n"
     ]
    },
    {
     "name": "stdout",
     "output_type": "stream",
     "text": [
      "Validation Loss: 0.2500\n",
      "Test Loss: 0.2500\n",
      "Accuracy: 1508.95%\n",
      "\n",
      "Training with 99.9668655% of the data:\n"
     ]
    },
    {
     "name": "stderr",
     "output_type": "stream",
     "text": [
      "Epochs (Train Size: 99.9668655%):   4%|▍         | 2/50 [00:00<00:07,  6.28it/s]"
     ]
    },
    {
     "name": "stdout",
     "output_type": "stream",
     "text": [
      "Validation Loss: 0.2500\n",
      "Validation Loss: 0.2500\n"
     ]
    },
    {
     "name": "stderr",
     "output_type": "stream",
     "text": [
      "Epochs (Train Size: 99.9668655%):   8%|▊         | 4/50 [00:00<00:07,  6.50it/s]"
     ]
    },
    {
     "name": "stdout",
     "output_type": "stream",
     "text": [
      "Validation Loss: 0.2500\n",
      "Validation Loss: 0.2500\n"
     ]
    },
    {
     "name": "stderr",
     "output_type": "stream",
     "text": [
      "Epochs (Train Size: 99.9668655%):  12%|█▏        | 6/50 [00:00<00:06,  6.55it/s]"
     ]
    },
    {
     "name": "stdout",
     "output_type": "stream",
     "text": [
      "Validation Loss: 0.2500\n",
      "Validation Loss: 0.2500\n"
     ]
    },
    {
     "name": "stderr",
     "output_type": "stream",
     "text": [
      "Epochs (Train Size: 99.9668655%):  16%|█▌        | 8/50 [00:01<00:06,  6.51it/s]"
     ]
    },
    {
     "name": "stdout",
     "output_type": "stream",
     "text": [
      "Validation Loss: 0.2500\n",
      "Validation Loss: 0.2500\n"
     ]
    },
    {
     "name": "stderr",
     "output_type": "stream",
     "text": [
      "Epochs (Train Size: 99.9668655%):  20%|██        | 10/50 [00:01<00:06,  6.53it/s]"
     ]
    },
    {
     "name": "stdout",
     "output_type": "stream",
     "text": [
      "Validation Loss: 0.2500\n",
      "Validation Loss: 0.2500\n"
     ]
    },
    {
     "name": "stderr",
     "output_type": "stream",
     "text": [
      "Epochs (Train Size: 99.9668655%):  24%|██▍       | 12/50 [00:01<00:05,  6.52it/s]"
     ]
    },
    {
     "name": "stdout",
     "output_type": "stream",
     "text": [
      "Validation Loss: 0.2500\n",
      "Validation Loss: 0.2500\n"
     ]
    },
    {
     "name": "stderr",
     "output_type": "stream",
     "text": [
      "Epochs (Train Size: 99.9668655%):  28%|██▊       | 14/50 [00:02<00:05,  6.54it/s]"
     ]
    },
    {
     "name": "stdout",
     "output_type": "stream",
     "text": [
      "Validation Loss: 0.2500\n",
      "Validation Loss: 0.2500\n"
     ]
    },
    {
     "name": "stderr",
     "output_type": "stream",
     "text": [
      "Epochs (Train Size: 99.9668655%):  32%|███▏      | 16/50 [00:02<00:05,  6.53it/s]"
     ]
    },
    {
     "name": "stdout",
     "output_type": "stream",
     "text": [
      "Validation Loss: 0.2500\n",
      "Validation Loss: 0.2500\n"
     ]
    },
    {
     "name": "stderr",
     "output_type": "stream",
     "text": [
      "Epochs (Train Size: 99.9668655%):  36%|███▌      | 18/50 [00:02<00:04,  6.52it/s]"
     ]
    },
    {
     "name": "stdout",
     "output_type": "stream",
     "text": [
      "Validation Loss: 0.2500\n",
      "Validation Loss: 0.2500\n"
     ]
    },
    {
     "name": "stderr",
     "output_type": "stream",
     "text": [
      "Epochs (Train Size: 99.9668655%):  40%|████      | 20/50 [00:03<00:04,  6.60it/s]"
     ]
    },
    {
     "name": "stdout",
     "output_type": "stream",
     "text": [
      "Validation Loss: 0.2500\n",
      "Validation Loss: 0.2500\n"
     ]
    },
    {
     "name": "stderr",
     "output_type": "stream",
     "text": [
      "Epochs (Train Size: 99.9668655%):  44%|████▍     | 22/50 [00:03<00:04,  6.41it/s]"
     ]
    },
    {
     "name": "stdout",
     "output_type": "stream",
     "text": [
      "Validation Loss: 0.2500\n",
      "Validation Loss: 0.2500\n"
     ]
    },
    {
     "name": "stderr",
     "output_type": "stream",
     "text": [
      "Epochs (Train Size: 99.9668655%):  48%|████▊     | 24/50 [00:03<00:04,  6.34it/s]"
     ]
    },
    {
     "name": "stdout",
     "output_type": "stream",
     "text": [
      "Validation Loss: 0.2500\n",
      "Validation Loss: 0.2500\n"
     ]
    },
    {
     "name": "stderr",
     "output_type": "stream",
     "text": [
      "Epochs (Train Size: 99.9668655%):  52%|█████▏    | 26/50 [00:04<00:03,  6.50it/s]"
     ]
    },
    {
     "name": "stdout",
     "output_type": "stream",
     "text": [
      "Validation Loss: 0.2500\n",
      "Validation Loss: 0.2500\n"
     ]
    },
    {
     "name": "stderr",
     "output_type": "stream",
     "text": [
      "Epochs (Train Size: 99.9668655%):  56%|█████▌    | 28/50 [00:04<00:03,  6.59it/s]"
     ]
    },
    {
     "name": "stdout",
     "output_type": "stream",
     "text": [
      "Validation Loss: 0.2500\n",
      "Validation Loss: 0.2500\n"
     ]
    },
    {
     "name": "stderr",
     "output_type": "stream",
     "text": [
      "Epochs (Train Size: 99.9668655%):  60%|██████    | 30/50 [00:04<00:03,  6.63it/s]"
     ]
    },
    {
     "name": "stdout",
     "output_type": "stream",
     "text": [
      "Validation Loss: 0.2500\n",
      "Validation Loss: 0.2500\n"
     ]
    },
    {
     "name": "stderr",
     "output_type": "stream",
     "text": [
      "Epochs (Train Size: 99.9668655%):  64%|██████▍   | 32/50 [00:04<00:02,  6.64it/s]"
     ]
    },
    {
     "name": "stdout",
     "output_type": "stream",
     "text": [
      "Validation Loss: 0.2500\n",
      "Validation Loss: 0.2500\n"
     ]
    },
    {
     "name": "stderr",
     "output_type": "stream",
     "text": [
      "Epochs (Train Size: 99.9668655%):  68%|██████▊   | 34/50 [00:05<00:02,  6.63it/s]"
     ]
    },
    {
     "name": "stdout",
     "output_type": "stream",
     "text": [
      "Validation Loss: 0.2500\n",
      "Validation Loss: 0.2500\n"
     ]
    },
    {
     "name": "stderr",
     "output_type": "stream",
     "text": [
      "Epochs (Train Size: 99.9668655%):  72%|███████▏  | 36/50 [00:05<00:02,  6.60it/s]"
     ]
    },
    {
     "name": "stdout",
     "output_type": "stream",
     "text": [
      "Validation Loss: 0.2500\n",
      "Validation Loss: 0.2500\n"
     ]
    },
    {
     "name": "stderr",
     "output_type": "stream",
     "text": [
      "Epochs (Train Size: 99.9668655%):  76%|███████▌  | 38/50 [00:05<00:01,  6.65it/s]"
     ]
    },
    {
     "name": "stdout",
     "output_type": "stream",
     "text": [
      "Validation Loss: 0.2500\n",
      "Validation Loss: 0.2500\n"
     ]
    },
    {
     "name": "stderr",
     "output_type": "stream",
     "text": [
      "Epochs (Train Size: 99.9668655%):  80%|████████  | 40/50 [00:06<00:01,  6.65it/s]"
     ]
    },
    {
     "name": "stdout",
     "output_type": "stream",
     "text": [
      "Validation Loss: 0.2500\n",
      "Validation Loss: 0.2500\n"
     ]
    },
    {
     "name": "stderr",
     "output_type": "stream",
     "text": [
      "Epochs (Train Size: 99.9668655%):  84%|████████▍ | 42/50 [00:06<00:01,  6.60it/s]"
     ]
    },
    {
     "name": "stdout",
     "output_type": "stream",
     "text": [
      "Validation Loss: 0.2500\n",
      "Validation Loss: 0.2500\n"
     ]
    },
    {
     "name": "stderr",
     "output_type": "stream",
     "text": [
      "Epochs (Train Size: 99.9668655%):  88%|████████▊ | 44/50 [00:06<00:00,  6.42it/s]"
     ]
    },
    {
     "name": "stdout",
     "output_type": "stream",
     "text": [
      "Validation Loss: 0.2500\n",
      "Validation Loss: 0.2500\n"
     ]
    },
    {
     "name": "stderr",
     "output_type": "stream",
     "text": [
      "Epochs (Train Size: 99.9668655%):  92%|█████████▏| 46/50 [00:07<00:00,  6.41it/s]"
     ]
    },
    {
     "name": "stdout",
     "output_type": "stream",
     "text": [
      "Validation Loss: 0.2500\n",
      "Validation Loss: 0.2500\n"
     ]
    },
    {
     "name": "stderr",
     "output_type": "stream",
     "text": [
      "Epochs (Train Size: 99.9668655%):  96%|█████████▌| 48/50 [00:07<00:00,  6.51it/s]"
     ]
    },
    {
     "name": "stdout",
     "output_type": "stream",
     "text": [
      "Validation Loss: 0.2500\n",
      "Validation Loss: 0.2500\n"
     ]
    },
    {
     "name": "stderr",
     "output_type": "stream",
     "text": [
      "Epochs (Train Size: 99.9668655%): 100%|██████████| 50/50 [00:07<00:00,  6.53it/s]"
     ]
    },
    {
     "name": "stdout",
     "output_type": "stream",
     "text": [
      "Validation Loss: 0.2500\n",
      "Validation Loss: 0.2500\n",
      "Test Loss: 0.2500\n",
      "Accuracy: 1423.46%\n"
     ]
    },
    {
     "name": "stderr",
     "output_type": "stream",
     "text": [
      "\n"
     ]
    }
   ],
   "source": [
    "import numpy as np\n",
    "import pandas as pd\n",
    "from sklearn.model_selection import train_test_split\n",
    "from sklearn.metrics import mean_squared_error, mean_absolute_error\n",
    "import torch\n",
    "import torch.nn as nn\n",
    "import torch.optim as optim\n",
    "from torch.utils.data import DataLoader, TensorDataset\n",
    "from tqdm import tqdm\n",
    "\n",
    "device = torch.device('cuda' if torch.cuda.is_available() else 'cpu')\n",
    "print(device)\n",
    "\n",
    "# Custom neural network with Fourier feature generation in the forward pass\n",
    "class SurvivalPredictionNN(nn.Module):\n",
    "    def __init__(self, input_size, hidden_size1, hidden_size2, hidden_size3, fourier_order=1):\n",
    "        super(SurvivalPredictionNN, self).__init__()\n",
    "        self.fourier_order = fourier_order\n",
    "        self.orders = torch.arange(1, fourier_order + 1).float().to(device)\n",
    "        self.fc1 = nn.Linear(input_size * (2 * fourier_order + 1), hidden_size1)  # First layer with Fourier features\n",
    "        self.fc2 = nn.Linear(hidden_size1, hidden_size2)\n",
    "        self.fc3 = nn.Linear(hidden_size2, hidden_size3)\n",
    "        self.fc4 = nn.Linear(hidden_size3, 2)  # Output layer now has 2 neurons for classification\n",
    "\n",
    "    def forward(self, x):\n",
    "        x = x.unsqueeze(-1)  # Add extra dimension for broadcasting\n",
    "        fourier_features = torch.cat([torch.sin(self.orders * x), torch.cos(self.orders * x), x], dim=-1)  # Fourier series transformation\n",
    "        fourier_features = fourier_features.view(x.shape[0], -1)  \n",
    "        x = torch.relu(self.fc1(fourier_features))\n",
    "        x = torch.relu(self.fc2(x))\n",
    "        x = torch.relu(self.fc3(x))\n",
    "        x = self.fc4(x)  # Output layer\n",
    "        x = torch.softmax(x, dim=1)  # Apply softmax activation for classification\n",
    "        return x\n",
    "\n",
    "\n",
    "# Define the function to train the model with different subsets of data\n",
    "# Use CrossEntropyLoss for classification tasks\n",
    "criterion = nn.CrossEntropyLoss()\n",
    "\n",
    "def RegressionNN(feature, data, train_sizes, batch_size=32, hidden_size1=64, hidden_size2=32, hidden_size3=16, lr=0.0001, num_epochs=50):\n",
    "    print('Target Variable -', feature)\n",
    "    device = torch.device(\"cuda\" if torch.cuda.is_available() else \"cpu\")\n",
    "\n",
    "    # Separate the target column (A Stage) from the rest of the data\n",
    "    X = data.drop(columns=feature)  # Features\n",
    "    y = data[feature]  # Target\n",
    "    \n",
    "    # Convert target y to long type for CrossEntropyLoss\n",
    "    y = y.astype(int)  # Ensure y is of integer type, not float\n",
    "\n",
    "    # Initial split into 75% training data and 25% test data\n",
    "    X_train_val, X_test, y_train_val, y_test = train_test_split(X, y, test_size=0.25, random_state=42)\n",
    "\n",
    "    # Convert test and validation data to PyTorch tensors and move to device\n",
    "    X_test = torch.tensor(X_test.values.astype(np.float32)).to(device)\n",
    "    y_test = torch.tensor(y_test.values.astype(int)).to(device)  # Ensure target is long for CrossEntropyLoss\n",
    "\n",
    "    # Loop over different train sizes\n",
    "    results = []\n",
    "    for train_size in train_sizes:\n",
    "        print(f'\\nTraining with {train_size*100}% of the data:')\n",
    "        current_train_size = int(len(X_train_val) * train_size)\n",
    "\n",
    "        # Split the training data according to the current size\n",
    "        X_train, _, y_train, _ = train_test_split(X_train_val, y_train_val, train_size=current_train_size, random_state=42)\n",
    "\n",
    "        # Convert training data to PyTorch tensors and move to device\n",
    "        X_train = torch.tensor(X_train.values.astype(np.float32)).to(device)\n",
    "        y_train = torch.tensor(y_train.values.astype(int)).to(device)  # Ensure target is long for CrossEntropyLoss\n",
    "\n",
    "        # Creating Data Loaders for training and test datasets\n",
    "        train_dataset = TensorDataset(X_train, y_train)\n",
    "        train_loader = DataLoader(train_dataset, batch_size=batch_size, shuffle=True)\n",
    "        \n",
    "        test_dataset = TensorDataset(X_test, y_test)\n",
    "        test_loader = DataLoader(test_dataset, batch_size=batch_size, shuffle=False)\n",
    "\n",
    "        # Initializing the model and the optimizer\n",
    "        input_size = X_train.shape[1]\n",
    "        model = SurvivalPredictionNN(input_size, hidden_size1, hidden_size2, hidden_size3).to(device)\n",
    "        optimizer = optim.Adam(model.parameters(), lr=lr)\n",
    "\n",
    "        # Training with validation\n",
    "        for epoch in tqdm(range(num_epochs), desc=f\"Epochs (Train Size: {train_size*100}%)\"):\n",
    "            model.train()\n",
    "            running_loss = 0.0\n",
    "            for inputs, labels in train_loader:\n",
    "                inputs, labels = inputs.to(device), labels.to(device)\n",
    "                optimizer.zero_grad()\n",
    "                outputs = model(inputs)\n",
    "                loss = criterion(outputs, labels)\n",
    "                loss.backward()\n",
    "                optimizer.step()\n",
    "                running_loss += loss.item() * inputs.size(0)\n",
    "\n",
    "            # Validation\n",
    "            model.eval()\n",
    "            val_loss = 0.0\n",
    "            with torch.no_grad():\n",
    "                for val_inputs, val_labels in test_loader:\n",
    "                    val_inputs, val_labels = val_inputs.to(device), val_labels.to(device)\n",
    "                    val_outputs = model(val_inputs)\n",
    "                    val_loss += criterion(val_outputs, val_labels).item() * val_inputs.size(0)\n",
    "            val_loss /= len(test_loader.dataset)\n",
    "            print(f'Validation Loss: {val_loss:.4f}')\n",
    "\n",
    "        # Evaluate on test data after training\n",
    "        model.eval()\n",
    "        test_loss = 0.0\n",
    "        correct = 0\n",
    "        total = 0\n",
    "        predictions = []\n",
    "        with torch.no_grad():\n",
    "            for inputs, labels in test_loader:\n",
    "                inputs, labels = inputs.to(device), labels.to(device)\n",
    "                outputs = model(inputs)\n",
    "                test_loss += criterion(outputs, labels).item() * inputs.size(0)\n",
    "                \n",
    "                # Get the predicted class by taking the argmax\n",
    "                _, predicted = torch.max(outputs, 1)\n",
    "                \n",
    "                # Compare predicted class with true labels\n",
    "                correct += (predicted == labels).sum().item()\n",
    "                total += labels.size(0)\n",
    "                predictions.extend(predicted.cpu().tolist())\n",
    "\n",
    "        # Calculate the average loss\n",
    "        test_loss /= len(test_loader.dataset)\n",
    "        print(f'Test Loss: {test_loss:.4f}')\n",
    "\n",
    "        # Calculate accuracy\n",
    "        accuracy = correct / total * 100\n",
    "        print(f'Accuracy: {accuracy:.2f}%')\n",
    "\n",
    "        # Collect results\n",
    "        results.append((train_size, accuracy))\n",
    "\n",
    "    return results\n",
    "\n",
    "\n",
    "\n",
    "\n",
    "# Define train sizes and target feature\n",
    "train_sizes = [0.2, 0.4, 0.6, 0.8, 0.999668655]  # Proportions of the total data\n",
    "feature = 'A Stage'  # Target column\n",
    "\n",
    "# Load your data here\n",
    "data = data_preprocessed_df  # Replace with your data source\n",
    "\n",
    "# Call the function\n",
    "results = RegressionNN(feature, data, train_sizes)\n"
   ]
  }
 ],
 "metadata": {
  "kernelspec": {
   "display_name": "breastcancer1",
   "language": "python",
   "name": "python3"
  },
  "language_info": {
   "codemirror_mode": {
    "name": "ipython",
    "version": 3
   },
   "file_extension": ".py",
   "mimetype": "text/x-python",
   "name": "python",
   "nbconvert_exporter": "python",
   "pygments_lexer": "ipython3",
   "version": "3.12.4"
  }
 },
 "nbformat": 4,
 "nbformat_minor": 2
}
